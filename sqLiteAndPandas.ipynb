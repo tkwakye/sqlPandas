{
 "cells": [
  {
   "cell_type": "code",
   "execution_count": 28,
   "metadata": {},
   "outputs": [],
   "source": [
    "import os\n",
    "import pymysql\n",
    "import mysql.connector\n",
    "from sqlalchemy import create_engine\n",
    "\n",
    "import pandas as pd\n",
    "import matplotlib.pyplot as plt"
   ]
  },
  {
   "cell_type": "code",
   "execution_count": 29,
   "metadata": {},
   "outputs": [],
   "source": [
    "host_name = \"ds2002.org\" #\"compid-mysql.mysql.database.azure.com\"\n",
    "host_ip = \"ds2002.org\"\n",
    "port = \"3306\"\n",
    "\n",
    "user_id = \"nnt6qd\"\n",
    "pwd = \"nnt6qd!\"\n",
    "db_name = \"nnt6qd\""
   ]
  },
  {
   "cell_type": "markdown",
   "metadata": {},
   "source": [
    "\n",
    "1. Create a connection to an SQLite database file named student_grades.db. If the\n",
    "database file does not exist, SQLite will automatically create it.\n",
    "2. Create a cursor object to interact with the database.\n",
    "3. You will need two tables for this assignment:\n",
    "• students: A table to store student information.\n",
    "• grades: A table to store student grades for different subjects\n",
    "4. Insert at least 5 students into the students table and at least 3 grades for each student into the grades table."
   ]
  },
  {
   "cell_type": "code",
   "execution_count": 30,
   "metadata": {},
   "outputs": [],
   "source": [
    "conn = pymysql.connect(host=host_name, user=user_id, password=pwd, database=db_name)\n",
    "cursor = conn.cursor()\n",
    "\n",
    "cursor.execute('''\n",
    "CREATE TABLE IF NOT EXISTS students (\n",
    "    student_id INT Auto_INCREMENT PRIMARY KEY,\n",
    "    first_name VARCHAR(255),\n",
    "    last_name VARCHAR(255) )\n",
    "''')\n",
    "\n",
    "\n",
    "cursor.execute('''\n",
    "CREATE TABLE IF NOT EXISTS grades (\n",
    "    grade_id INT Auto_INCREMENT PRIMARY KEY,\n",
    "    student_id INT,\n",
    "    subject VARCHAR(255),\n",
    "    grade INT,\n",
    "    FOREIGN KEY (student_id) REFERENCES students(student_id)\n",
    ")\n",
    "''')\n",
    "\n",
    "students_data = [\n",
    "    (1, 'Steve', 'Smith'),\n",
    "    (2, 'Aaliyah', 'Parker'),\n",
    "    (3, 'Pamala', 'Owens'),\n",
    "    (4, 'Brittny', 'Hill'),\n",
    "    (5, 'Lincoln', 'Walker')\n",
    "]\n",
    "\n",
    "grades_data = [\n",
    "    (1, 1, 'Math', '100'),\n",
    "    (2, 1, 'English', '100'),\n",
    "    (3, 1, 'History', '100'),\n",
    "    (4, 2, 'Math', '90'),\n",
    "    (5, 2, 'English', '95'),\n",
    "    (6, 2, 'History', '97'),\n",
    "    (7, 3, 'Math', '86'),\n",
    "    (8, 3, 'English', '88'),\n",
    "    (9, 3, 'History', '84'),\n",
    "    (10, 4, 'Math', '82'),\n",
    "    (11, 4, 'English', '83'),\n",
    "    (12, 4, 'History', '85'),\n",
    "    (13, 5, 'Math', '76'),\n",
    "    (14, 5, 'English', '74'),\n",
    "    (15, 5, 'History', '78')\n",
    "]\n",
    "\n",
    "cursor.executemany('''\n",
    "INSERT INTO students (student_id, first_name, last_name)\n",
    "VALUES (%s, %s, %s)\n",
    "ON DUPLICATE KEY UPDATE\n",
    "    first_name = VALUES(first_name),\n",
    "    last_name = VALUES(last_name)\n",
    "''', students_data)\n",
    "\n",
    "cursor.executemany('''\n",
    "INSERT INTO grades (grade_id, student_id, subject, grade)\n",
    "VALUES (%s, %s, %s, %s)\n",
    "ON DUPLICATE KEY UPDATE\n",
    "    student_id = VALUES(student_id),\n",
    "    subject = VALUES(subject),\n",
    "    grade = VALUES(grade)\n",
    "''', grades_data)\n",
    "conn.commit()\n",
    "conn.close()"
   ]
  },
  {
   "cell_type": "markdown",
   "metadata": {},
   "source": [
    "Retrieve all students' names and their grades."
   ]
  },
  {
   "cell_type": "code",
   "execution_count": 34,
   "metadata": {},
   "outputs": [
    {
     "name": "stdout",
     "output_type": "stream",
     "text": [
      "('Steve', 'Smith', 'Math', 100)\n",
      "('Steve', 'Smith', 'English', 100)\n",
      "('Steve', 'Smith', 'History', 100)\n",
      "('Aaliyah', 'Parker', 'Math', 90)\n",
      "('Aaliyah', 'Parker', 'English', 95)\n",
      "('Aaliyah', 'Parker', 'History', 97)\n",
      "('Pamala', 'Owens', 'Math', 86)\n",
      "('Pamala', 'Owens', 'English', 88)\n",
      "('Pamala', 'Owens', 'History', 84)\n",
      "('Brittny', 'Hill', 'Math', 82)\n",
      "('Brittny', 'Hill', 'English', 83)\n",
      "('Brittny', 'Hill', 'History', 85)\n",
      "('Lincoln', 'Walker', 'Math', 76)\n",
      "('Lincoln', 'Walker', 'English', 74)\n",
      "('Lincoln', 'Walker', 'History', 78)\n"
     ]
    }
   ],
   "source": [
    "conn = pymysql.connect(host=host_name, user=user_id, password=pwd, database=db_name)\n",
    "cursor = conn.cursor()\n",
    "cursor.execute('''\n",
    "SELECT students.first_name, students.last_name, grades.subject, grades.grade\n",
    "FROM students\n",
    "JOIN grades ON grades.student_id = students.student_id;\n",
    " ''')\n",
    "results = cursor.fetchall()\n",
    "\n",
    "for row in results:\n",
    "    print(row)\n"
   ]
  },
  {
   "cell_type": "markdown",
   "metadata": {},
   "source": [
    "Find the average grade for each student.\n"
   ]
  },
  {
   "cell_type": "code",
   "execution_count": 35,
   "metadata": {},
   "outputs": [
    {
     "name": "stdout",
     "output_type": "stream",
     "text": [
      "('Steve', 'Smith', Decimal('100.0000'))\n",
      "('Aaliyah', 'Parker', Decimal('94.0000'))\n",
      "('Pamala', 'Owens', Decimal('86.0000'))\n",
      "('Brittny', 'Hill', Decimal('83.3333'))\n",
      "('Lincoln', 'Walker', Decimal('76.0000'))\n"
     ]
    }
   ],
   "source": [
    "conn = pymysql.connect(host=host_name, user=user_id, password=pwd, database=db_name)\n",
    "cursor = conn.cursor()\n",
    "cursor.execute('''\n",
    "SELECT students.first_name, students.last_name, AVG(grades.grade) AS average_grade\n",
    "FROM students\n",
    "JOIN grades ON grades.student_id = students.student_id\n",
    "GROUP BY students.student_id, students.first_name, students.last_name;\n",
    " ''')\n",
    "results = cursor.fetchall()\n",
    "\n",
    "for row in results:\n",
    "    print(row)\n"
   ]
  },
  {
   "cell_type": "markdown",
   "metadata": {},
   "source": [
    "Find the student with the highest average grade."
   ]
  },
  {
   "cell_type": "code",
   "execution_count": 36,
   "metadata": {},
   "outputs": [
    {
     "name": "stdout",
     "output_type": "stream",
     "text": [
      "('Steve', 'Smith', Decimal('100.0000'))\n"
     ]
    }
   ],
   "source": [
    "conn = pymysql.connect(host=host_name, user=user_id, password=pwd, database=db_name)\n",
    "cursor = conn.cursor()\n",
    "cursor.execute('''\n",
    "SELECT students.first_name, students.last_name, AVG(grades.grade) AS average_grade \n",
    "FROM students\n",
    "JOIN grades ON grades.student_id = students.student_id\n",
    "GROUP BY students.student_id, students.first_name, students.last_name\n",
    "ORDER BY average_grade DESC LIMIT 1;\n",
    "               \n",
    " ''')\n",
    "results = cursor.fetchall()\n",
    "\n",
    "for row in results:\n",
    "    print(row)\n"
   ]
  },
  {
   "cell_type": "markdown",
   "metadata": {},
   "source": [
    "Find the average grade for the Math subject"
   ]
  },
  {
   "cell_type": "code",
   "execution_count": 41,
   "metadata": {},
   "outputs": [
    {
     "name": "stdout",
     "output_type": "stream",
     "text": [
      "(Decimal('86.8000'),)\n"
     ]
    }
   ],
   "source": [
    "conn = pymysql.connect(host=host_name, user=user_id, password=pwd, database=db_name)\n",
    "cursor = conn.cursor()\n",
    "cursor.execute('''\n",
    "SELECT AVG(grades.grade) AS average_math_grade \n",
    "FROM grades\n",
    "WHERE grades.subject = \"Math\";            \n",
    " ''')\n",
    "results = cursor.fetchall()\n",
    "\n",
    "for row in results:\n",
    "    print(row)\n"
   ]
  },
  {
   "cell_type": "markdown",
   "metadata": {},
   "source": [
    "List all students who scored above 90 in any subject"
   ]
  },
  {
   "cell_type": "code",
   "execution_count": 69,
   "metadata": {},
   "outputs": [
    {
     "name": "stdout",
     "output_type": "stream",
     "text": [
      "('Steve', 'Smith')\n",
      "('Aaliyah', 'Parker')\n"
     ]
    }
   ],
   "source": [
    "conn = pymysql.connect(host=host_name, user=user_id, password=pwd, database=db_name)\n",
    "cursor = conn.cursor()\n",
    "cursor.execute('''\n",
    "SELECT DISTINCT students.first_name, students.last_name\n",
    "FROM students\n",
    "JOIN grades ON grades.student_id = students.student_id\n",
    "WHERE grades.grade > 90;\n",
    "               \n",
    " ''')\n",
    "results = cursor.fetchall()\n",
    "\n",
    "for row in results:\n",
    "    print(row)\n"
   ]
  },
  {
   "cell_type": "markdown",
   "metadata": {},
   "source": [
    "1. Use Pandas to load the data from the students and grades tables into DataFrames.\n",
    "2. Use JOIN queries to combine the data from both tables into a single DataFrame that\n",
    "includes each student's name, subject, and grade"
   ]
  },
  {
   "cell_type": "code",
   "execution_count": 50,
   "metadata": {},
   "outputs": [
    {
     "name": "stdout",
     "output_type": "stream",
     "text": [
      "   first_name last_name  subject  grade\n",
      "0       Steve     Smith     Math    100\n",
      "1       Steve     Smith  English    100\n",
      "2       Steve     Smith  History    100\n",
      "3     Aaliyah    Parker     Math     90\n",
      "4     Aaliyah    Parker  English     95\n",
      "5     Aaliyah    Parker  History     97\n",
      "6      Pamala     Owens     Math     86\n",
      "7      Pamala     Owens  English     88\n",
      "8      Pamala     Owens  History     84\n",
      "9     Brittny      Hill     Math     82\n",
      "10    Brittny      Hill  English     83\n",
      "11    Brittny      Hill  History     85\n",
      "12    Lincoln    Walker     Math     76\n",
      "13    Lincoln    Walker  English     74\n",
      "14    Lincoln    Walker  History     78\n"
     ]
    },
    {
     "name": "stderr",
     "output_type": "stream",
     "text": [
      "C:\\Users\\tiffa\\AppData\\Local\\Temp\\ipykernel_30244\\2234886177.py:1: UserWarning: pandas only supports SQLAlchemy connectable (engine/connection) or database string URI or sqlite3 DBAPI2 connection. Other DBAPI2 objects are not tested. Please consider using SQLAlchemy.\n",
      "  studentsDF = pd.read_sql('SELECT * FROM students', conn)\n",
      "C:\\Users\\tiffa\\AppData\\Local\\Temp\\ipykernel_30244\\2234886177.py:2: UserWarning: pandas only supports SQLAlchemy connectable (engine/connection) or database string URI or sqlite3 DBAPI2 connection. Other DBAPI2 objects are not tested. Please consider using SQLAlchemy.\n",
      "  gradesDF = pd.read_sql('SELECT * FROM grades', conn)\n",
      "C:\\Users\\tiffa\\AppData\\Local\\Temp\\ipykernel_30244\\2234886177.py:3: UserWarning: pandas only supports SQLAlchemy connectable (engine/connection) or database string URI or sqlite3 DBAPI2 connection. Other DBAPI2 objects are not tested. Please consider using SQLAlchemy.\n",
      "  student_gradesDF =  pd.read_sql('SELECT students.first_name, students.last_name, grades.subject, grades.grade FROM students JOIN grades ON students.student_id = grades.student_id;', conn)\n"
     ]
    }
   ],
   "source": [
    "studentsDF = pd.read_sql('SELECT * FROM students', conn)\n",
    "gradesDF = pd.read_sql('SELECT * FROM grades', conn)\n",
    "student_gradesDF =  pd.read_sql('SELECT students.first_name, students.last_name, grades.subject, grades.grade FROM students JOIN grades ON students.student_id = grades.student_id;', conn)\n",
    "# print(student_gradesDF)"
   ]
  },
  {
   "cell_type": "markdown",
   "metadata": {},
   "source": [
    "Plot the average grades for each student."
   ]
  },
  {
   "cell_type": "code",
   "execution_count": 70,
   "metadata": {},
   "outputs": [
    {
     "data": {
      "image/png": "[encoded data removed]",
      "text/plain": [
       "<Figure size 640x480 with 1 Axes>"
      ]
     },
     "metadata": {},
     "output_type": "display_data"
    }
   ],
   "source": [
    "avgGradeStudent = student_gradesDF.groupby(['first_name', 'last_name'])['grade'].mean().reset_index()\n",
    "avgGradeSubject = student_gradesDF.groupby(['subject'])['grade'].mean().reset_index()\n",
    "\n",
    "def bar_chart(x, y, xLabel, YLabel):\n",
    "    plt.figure()\n",
    "    plt.bar(x,y)\n",
    "    plt.xlabel(xLabel)\n",
    "    plt.ylabel(YLabel)\n",
    "    plt.show()\n",
    "\n",
    "bar_chart(\n",
    "    avgGradeStudent[\"first_name\"] + ' ' + avgGradeStudent[\"last_name\"],\n",
    "    avgGradeStudent[\"grade\"],\n",
    "    \"Student Name\",\n",
    "    \"Average Student Grade\"\n",
    ")"
   ]
  },
  {
   "cell_type": "markdown",
   "metadata": {},
   "source": [
    "Create a bar chart showing the average grade for each subject."
   ]
  },
  {
   "cell_type": "code",
   "execution_count": 57,
   "metadata": {},
   "outputs": [
    {
     "data": {
      "image/png": "[encoded data removed]",
      "text/plain": [
       "<Figure size 640x480 with 1 Axes>"
      ]
     },
     "metadata": {},
     "output_type": "display_data"
    }
   ],
   "source": [
    "bar_chart(\n",
    "    avgGradeSubject[\"subject\"],\n",
    "    avgGradeSubject[\"grade\"],\n",
    "    \"Subject\",\n",
    "    \"Average Subject Grade\"\n",
    ")"
   ]
  },
  {
   "cell_type": "markdown",
   "metadata": {},
   "source": [
    "Bonus Task: (5pts)\n",
    "• Implement a query that finds the student with the highest grade in each subject.\n",
    "• Visualize the results using a grouped bar chart.\n"
   ]
  },
  {
   "cell_type": "code",
   "execution_count": 74,
   "metadata": {},
   "outputs": [
    {
     "name": "stdout",
     "output_type": "stream",
     "text": [
      "('Math', 'Steve', 'Smith', 100)\n",
      "('English', 'Steve', 'Smith', 100)\n",
      "('History', 'Steve', 'Smith', 100)\n"
     ]
    }
   ],
   "source": [
    "onn = pymysql.connect(host=host_name, user=user_id, password=pwd, database=db_name)\n",
    "cursor = conn.cursor()\n",
    "cursor.execute('''\n",
    "SELECT grades.subject, students.first_name, students.last_name, grades.grade\n",
    "FROM grades\n",
    "JOIN students ON grades.student_id = students.student_id\n",
    "WHERE (grades.subject, grades.grade) IN ( SELECT subject, MAX(grade) FROM grades GROUP BY subject);\n",
    "               \n",
    " ''')\n",
    "results = cursor.fetchall()\n",
    "\n",
    "for row in results:\n",
    "    print(row)\n"
   ]
  },
  {
   "cell_type": "code",
   "execution_count": 79,
   "metadata": {},
   "outputs": [
    {
     "name": "stderr",
     "output_type": "stream",
     "text": [
      "C:\\Users\\tiffa\\AppData\\Local\\Temp\\ipykernel_30244\\2947904339.py:1: UserWarning: pandas only supports SQLAlchemy connectable (engine/connection) or database string URI or sqlite3 DBAPI2 connection. Other DBAPI2 objects are not tested. Please consider using SQLAlchemy.\n",
      "  student_highestGradesDF =  pd.read_sql('SELECT grades.subject, students.first_name, students.last_name, grades.grade FROM grades JOIN students ON grades.student_id = students.student_id WHERE (grades.subject, grades.grade) IN ( SELECT subject, MAX(grade) FROM grades GROUP BY subject);', conn)\n"
     ]
    },
    {
     "data": {
      "image/png": "[encoded data removed]",
      "text/plain": [
       "<Figure size 640x480 with 1 Axes>"
      ]
     },
     "metadata": {},
     "output_type": "display_data"
    }
   ],
   "source": [
    "student_highestGradesDF =  pd.read_sql('SELECT grades.subject, students.first_name, students.last_name, grades.grade FROM grades JOIN students ON grades.student_id = students.student_id WHERE (grades.subject, grades.grade) IN ( SELECT subject, MAX(grade) FROM grades GROUP BY subject);', conn)\n",
    "student_highestGradesDF['name'] = student_highestGradesDF['first_name'] + ' ' + student_highestGradesDF['last_name']\n",
    "df = student_highestGradesDF.pivot(index='subject', columns='name', values='grade')\n",
    "df.plot(kind='bar')\n",
    "\n",
    "plt.xlabel('Subject')\n",
    "plt.ylabel('Grade')\n",
    "plt.show()"
   ]
  }
 ],
 "metadata": {
  "kernelspec": {
   "display_name": "Python 3",
   "language": "python",
   "name": "python3"
  },
  "language_info": {
   "codemirror_mode": {
    "name": "ipython",
    "version": 3
   },
   "file_extension": ".py",
   "mimetype": "text/x-python",
   "name": "python",
   "nbconvert_exporter": "python",
   "pygments_lexer": "ipython3",
   "version": "3.11.5"
  }
 },
 "nbformat": 4,
 "nbformat_minor": 2
}
